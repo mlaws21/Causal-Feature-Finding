{
 "cells": [
  {
   "cell_type": "code",
   "execution_count": 4,
   "metadata": {},
   "outputs": [],
   "source": [
    "%load_ext autoreload\n",
    "%autoreload 2"
   ]
  },
  {
   "cell_type": "code",
   "execution_count": 3,
   "metadata": {},
   "outputs": [],
   "source": [
    "### IMPORTS\n",
    "import pandas as pd\n",
    "import os"
   ]
  },
  {
   "attachments": {},
   "cell_type": "markdown",
   "metadata": {},
   "source": [
    "# Data"
   ]
  },
  {
   "cell_type": "code",
   "execution_count": 13,
   "metadata": {},
   "outputs": [],
   "source": [
    "DATA = \"data/demo.csv\""
   ]
  },
  {
   "attachments": {},
   "cell_type": "markdown",
   "metadata": {},
   "source": [
    "### Option 1: Synthetic Data\n",
    "\n",
    "Generates synthetic data according to a series of functions defined in generating_functions that basically make up a function graph. \n",
    "\n",
    "Data Descriptions:\n",
    "\n",
    "- demo: Generated with function graph based on the DAG in figure TODO in paper (used for demoing purposes)\n",
    "- standard: Generated with function graph based on the DAG in figure TODO in paper\n",
    "- upstream_shift: Generated with function graph based on the DAG in figure TODO in paper with a significant change to one of the generating functions of a variables that comes before Y in a topological ordering to be used for distribution shift testing\n",
    "- downstream_shift: Generated with function graph based on the DAG in figure TODO in paper with a significant change to one of the generating functions of a variables that comes after Y in a topological ordering to be used for distribution shift testing\n",
    "\n",
    "- mixed_standard: Generated with function graph based on the ADMG in figure TODO in paper\n",
    "\n",
    "\n"
   ]
  },
  {
   "cell_type": "code",
   "execution_count": 9,
   "metadata": {},
   "outputs": [],
   "source": [
    "### GENERATE DATA\n",
    "\n",
    "from generatedata import generate\n",
    "\n",
    "# generating_functions contants several function nets to generate random data\n",
    "from generating_functions import demo, standard, mixed_standard, upstream_shift, downstream_shift\n",
    "\n",
    "\n",
    "generating_data = demo\n",
    "\n",
    "starting_names = generating_data[\"starting_names\"]\n",
    "starting_generating_boundaries = generating_data[\"starting_generating_boundaries\"] \n",
    "downstream_names = generating_data[\"downstream_names\"]\n",
    "downstream_generating_functions = generating_data[\"downstream_generating_functions\"]\n",
    "downstream_parents = generating_data[\"downstream_parents\"]\n",
    "data = generate(starting_names, starting_generating_boundaries, downstream_names, downstream_generating_functions, downstream_parents, 1000)\n",
    "\n",
    "df = pd.DataFrame(data)\n",
    "df.to_csv(generating_data[\"name\"], index=False)\n"
   ]
  },
  {
   "cell_type": "code",
   "execution_count": 10,
   "metadata": {},
   "outputs": [],
   "source": [
    "### BINARIZE DATA\n",
    "\n",
    "from binarize import binarize\n",
    "\n",
    "binarize(generating_data[\"name\"], generating_data[\"name\"])\n"
   ]
  },
  {
   "attachments": {},
   "cell_type": "markdown",
   "metadata": {},
   "source": [
    "### Option 2: Real Data\n",
    "\n",
    "You can import real data in as a csv file and run the same analysis. This software can only handle binary variables so most real world data will need to be cleaned first.\n",
    "\n",
    "The cell will clean the data so that it can run in the software but you may lose more information that you want. It removes all rows with non-numeric typed data and then binarizes everything that is left.\n"
   ]
  },
  {
   "cell_type": "code",
   "execution_count": 12,
   "metadata": {},
   "outputs": [],
   "source": [
    "### CLEAN DATA\n",
    "# Only need this if using real data\n",
    "\n",
    "from fix import remove_strs\n",
    "\n",
    "remove_strs(DATA)\n",
    "binarize(DATA, DATA)\n",
    "\n",
    "\n"
   ]
  },
  {
   "attachments": {},
   "cell_type": "markdown",
   "metadata": {},
   "source": [
    "# Making the Causal Graph"
   ]
  },
  {
   "attachments": {},
   "cell_type": "markdown",
   "metadata": {},
   "source": [
    "### Option 1: Dag Drawing Software\n",
    "\n",
    "pass and nodes and edges that you want to be preloaded into the software by changing the nodes and edges lists below\n",
    "\n",
    "Some Useful commands when adding nodes:\n",
    "\n",
    "- click: adds node\n",
    "- shift+click: moves nearby node to second click (node to move will turn green)\n",
    "- m: Your next click will select a nearby node to be moved and the following will place it\n",
    "- Esc: cancels current action\n",
    "\n",
    "Some Useful commands when adding Edges:\n",
    "\n",
    "- click 2x: first click starts edge from nearby node and second click connects edge to second node. Note first click is a parent of second click (parent node will turn red)\n",
    "- Esc: cancels current edge\n",
    "\n",
    "\n",
    "General Useful commands:\n",
    "\n",
    "- Cmd-z: Undo\n",
    "- Cmd-shift-z: Redo\n",
    "- t: toggle between adding nodes and edges\n",
    "- p: Returns nodes and edges \n",
    "\n"
   ]
  },
  {
   "cell_type": "code",
   "execution_count": 14,
   "metadata": {},
   "outputs": [
    {
     "name": "stdout",
     "output_type": "stream",
     "text": [
      "nodes = ['3', '1', '4', '2']\n",
      "edges = []\n"
     ]
    }
   ],
   "source": [
    "### DAG DRAWING SOFTWARE\n",
    "# ADMG drawer coming soon\n",
    "\n",
    "nodes = ['1', '2', '3', '4']\n",
    "edges = []\n",
    "\n",
    "_ = os.system(f\"python run_dag_draw.py \\\"{str(nodes)}\\\" \\\"{str(edges)}\\\"\")"
   ]
  },
  {
   "cell_type": "code",
   "execution_count": 15,
   "metadata": {},
   "outputs": [],
   "source": [
    "### COPY AND RUN OUTPUT OF ABOVE CELL HERE\n"
   ]
  },
  {
   "cell_type": "code",
   "execution_count": null,
   "metadata": {},
   "outputs": [],
   "source": []
  },
  {
   "attachments": {},
   "cell_type": "markdown",
   "metadata": {},
   "source": [
    "### Option 2: Causal Discovery\n",
    "\n",
    "If you think there is unmeasured confounding in your data run the ADMG discovery cell, otherwise run the DAG discovery. \n",
    "\n",
    "You can enter any prior knowledge using the box below\n",
    "\n",
    "This software requires all edges to be oriented, to do that run the FIX DAG /ADMG cell to finish orienting edges with user knowledge. \n",
    "\n",
    "Note: to quit the edge fixing protocol enter q\n",
    "\n",
    "Important: This is NOT guaranteed to not generate new cycles so be cautions with how edges are oriented.\n",
    "\n",
    "DAG Edges:\n",
    "\n",
    "Blue edges of form X --> Y means X causes Y\n",
    "Brown edges of form X --- Y reprisent edges that could either be oriented X --> Y or Y --> X.\n",
    "\n",
    "ADMG Edges:\n",
    "\n",
    "Blue edges of form X --> Y means X causes Y\n",
    "Red edges of form X <-> Y reprisent unmeasured confounding between X and Y\n",
    "Green edges of form X --> Y really should be of form X o-> Y. This means either X --> Y or X <-> Y or both.\n",
    "Orange edges of form X --- Y really should be of form X o-o Y. This means either 1) X --> Y, 2) Y --> X, 3) X <-> Y, 1 and 3, or 2 and 3\n"
   ]
  },
  {
   "cell_type": "code",
   "execution_count": null,
   "metadata": {},
   "outputs": [],
   "source": [
    "### ENTER KNOWLEDGE ABOUT THE DATA"
   ]
  },
  {
   "cell_type": "code",
   "execution_count": 24,
   "metadata": {},
   "outputs": [
    {
     "name": "stdout",
     "output_type": "stream",
     "text": [
      "['V1', 'V2', 'V6', 'V3', 'V4', 'V5', 'Y', 'V7', 'V8', 'V9']\n",
      "True\n",
      "[V7 --- V9, V2 --- V5, V6 --- V7, V3 --- V5, Y --- V7, V6 --- Y, V1 --- V3]\n"
     ]
    },
    {
     "data": {
      "image/svg+xml": "<?xml version=\"1.0\" encoding=\"UTF-8\" standalone=\"no\"?>\n<!DOCTYPE svg PUBLIC \"-//W3C//DTD SVG 1.1//EN\"\n \"http://www.w3.org/Graphics/SVG/1.1/DTD/svg11.dtd\">\n<!-- Generated by graphviz version 10.0.1 (20240210.2158)\n -->\n<!-- Pages: 1 -->\n<svg width=\"260pt\" height=\"251pt\"\n viewBox=\"0.00 0.00 260.00 251.00\" xmlns=\"http://www.w3.org/2000/svg\" xmlns:xlink=\"http://www.w3.org/1999/xlink\">\n<g id=\"graph0\" class=\"graph\" transform=\"scale(1 1) rotate(0) translate(4 247)\">\n<polygon fill=\"white\" stroke=\"none\" points=\"-4,4 -4,-247 256,-247 256,4 -4,4\"/>\n<!-- V1 -->\n<g id=\"node1\" class=\"node\">\n<title>V1</title>\n<text text-anchor=\"middle\" x=\"18\" y=\"-219.95\" font-family=\"Times,serif\" font-size=\"14.00\">V1</text>\n</g>\n<!-- V3 -->\n<g id=\"node4\" class=\"node\">\n<title>V3</title>\n<text text-anchor=\"middle\" x=\"90\" y=\"-196.95\" font-family=\"Times,serif\" font-size=\"14.00\">V3</text>\n</g>\n<!-- V1&#45;&gt;V3 -->\n<g id=\"edge1\" class=\"edge\">\n<title>V1&#45;&gt;V3</title>\n<path fill=\"none\" stroke=\"brown\" d=\"M35.95,-219.43C46.95,-215.82 61.24,-211.12 72.21,-207.52\"/>\n</g>\n<!-- V4 -->\n<g id=\"node5\" class=\"node\">\n<title>V4</title>\n<text text-anchor=\"middle\" x=\"234\" y=\"-181.95\" font-family=\"Times,serif\" font-size=\"14.00\">V4</text>\n</g>\n<!-- V1&#45;&gt;V4 -->\n<g id=\"edge2\" class=\"edge\">\n<title>V1&#45;&gt;V4</title>\n<path fill=\"none\" stroke=\"blue\" d=\"M35.69,-226.58C46.12,-227.49 59.83,-228.54 72,-229 87.99,-229.6 92.16,-231.26 108,-229 141,-224.29 148.47,-218.82 180,-208 188.5,-205.09 197.63,-201.6 205.88,-198.31\"/>\n<polygon fill=\"blue\" stroke=\"blue\" points=\"207.09,-201.6 215.04,-194.59 204.46,-195.11 207.09,-201.6\"/>\n</g>\n<!-- V2 -->\n<g id=\"node2\" class=\"node\">\n<title>V2</title>\n<text text-anchor=\"middle\" x=\"90\" y=\"-112.95\" font-family=\"Times,serif\" font-size=\"14.00\">V2</text>\n</g>\n<!-- V2&#45;&gt;V4 -->\n<g id=\"edge3\" class=\"edge\">\n<title>V2&#45;&gt;V4</title>\n<path fill=\"none\" stroke=\"blue\" d=\"M107.99,-118.9C126.62,-120.49 156.92,-124.89 180,-137 191.37,-142.97 202.06,-152.07 210.82,-160.88\"/>\n<polygon fill=\"blue\" stroke=\"blue\" points=\"208.15,-163.14 217.55,-168.02 213.24,-158.34 208.15,-163.14\"/>\n</g>\n<!-- V5 -->\n<g id=\"node6\" class=\"node\">\n<title>V5</title>\n<text text-anchor=\"middle\" x=\"162\" y=\"-158.95\" font-family=\"Times,serif\" font-size=\"14.00\">V5</text>\n</g>\n<!-- V2&#45;&gt;V5 -->\n<g id=\"edge4\" class=\"edge\">\n<title>V2&#45;&gt;V5</title>\n<path fill=\"none\" stroke=\"brown\" d=\"M107.95,-129.14C118.95,-136.37 133.24,-145.76 144.21,-152.97\"/>\n</g>\n<!-- V8 -->\n<g id=\"node9\" class=\"node\">\n<title>V8</title>\n<text text-anchor=\"middle\" x=\"162\" y=\"-66.95\" font-family=\"Times,serif\" font-size=\"14.00\">V8</text>\n</g>\n<!-- V2&#45;&gt;V8 -->\n<g id=\"edge5\" class=\"edge\">\n<title>V2&#45;&gt;V8</title>\n<path fill=\"none\" stroke=\"blue\" d=\"M107.95,-106.86C115.94,-101.61 125.67,-95.22 134.6,-89.35\"/>\n<polygon fill=\"blue\" stroke=\"blue\" points=\"136.51,-92.28 142.95,-83.86 132.67,-86.43 136.51,-92.28\"/>\n</g>\n<!-- V6 -->\n<g id=\"node3\" class=\"node\">\n<title>V6</title>\n<text text-anchor=\"middle\" x=\"18\" y=\"-35.95\" font-family=\"Times,serif\" font-size=\"14.00\">V6</text>\n</g>\n<!-- Y -->\n<g id=\"node7\" class=\"node\">\n<title>Y</title>\n<text text-anchor=\"middle\" x=\"90\" y=\"-58.95\" font-family=\"Times,serif\" font-size=\"14.00\">Y</text>\n</g>\n<!-- V6&#45;&gt;Y -->\n<g id=\"edge10\" class=\"edge\">\n<title>V6&#45;&gt;Y</title>\n<path fill=\"none\" stroke=\"brown\" d=\"M35.95,-46.57C46.95,-50.18 61.24,-54.88 72.21,-58.48\"/>\n</g>\n<!-- V7 -->\n<g id=\"node8\" class=\"node\">\n<title>V7</title>\n<text text-anchor=\"middle\" x=\"162\" y=\"-12.95\" font-family=\"Times,serif\" font-size=\"14.00\">V7</text>\n</g>\n<!-- V6&#45;&gt;V7 -->\n<g id=\"edge9\" class=\"edge\">\n<title>V6&#45;&gt;V7</title>\n<path fill=\"none\" stroke=\"brown\" d=\"M35.85,-38.27C63.18,-33.84 116.86,-25.15 144.18,-20.73\"/>\n</g>\n<!-- V3&#45;&gt;V4 -->\n<g id=\"edge6\" class=\"edge\">\n<title>V3&#45;&gt;V4</title>\n<path fill=\"none\" stroke=\"blue\" d=\"M107.85,-200.22C131.76,-197.69 175.85,-193.04 204.8,-189.98\"/>\n<polygon fill=\"blue\" stroke=\"blue\" points=\"205.09,-193.47 214.67,-188.94 204.36,-186.51 205.09,-193.47\"/>\n</g>\n<!-- V3&#45;&gt;V5 -->\n<g id=\"edge7\" class=\"edge\">\n<title>V3&#45;&gt;V5</title>\n<path fill=\"none\" stroke=\"brown\" d=\"M107.95,-192.8C118.95,-186.83 133.24,-179.07 144.21,-173.11\"/>\n</g>\n<!-- V5&#45;&gt;V4 -->\n<g id=\"edge8\" class=\"edge\">\n<title>V5&#45;&gt;V4</title>\n<path fill=\"none\" stroke=\"blue\" d=\"M179.95,-169.57C187.6,-172.08 196.84,-175.12 205.44,-177.95\"/>\n<polygon fill=\"blue\" stroke=\"blue\" points=\"204.18,-181.21 214.77,-181.01 206.37,-174.56 204.18,-181.21\"/>\n</g>\n<!-- Y&#45;&gt;V7 -->\n<g id=\"edge12\" class=\"edge\">\n<title>Y&#45;&gt;V7</title>\n<path fill=\"none\" stroke=\"brown\" d=\"M107.95,-52.86C118.95,-45.63 133.24,-36.24 144.21,-29.03\"/>\n</g>\n<!-- Y&#45;&gt;V8 -->\n<g id=\"edge13\" class=\"edge\">\n<title>Y&#45;&gt;V8</title>\n<path fill=\"none\" stroke=\"blue\" d=\"M107.95,-65.94C115.43,-66.79 124.42,-67.82 132.86,-68.78\"/>\n<polygon fill=\"blue\" stroke=\"blue\" points=\"132.37,-72.25 142.71,-69.91 133.17,-65.3 132.37,-72.25\"/>\n</g>\n<!-- V9 -->\n<g id=\"node10\" class=\"node\">\n<title>V9</title>\n<text text-anchor=\"middle\" x=\"234\" y=\"-12.95\" font-family=\"Times,serif\" font-size=\"14.00\">V9</text>\n</g>\n<!-- V7&#45;&gt;V9 -->\n<g id=\"edge11\" class=\"edge\">\n<title>V7&#45;&gt;V9</title>\n<path fill=\"none\" stroke=\"brown\" d=\"M179.95,-18C190.95,-18 205.24,-18 216.21,-18\"/>\n</g>\n</g>\n</svg>\n",
      "text/plain": [
       "<graphviz.graphs.Digraph at 0x10435a690>"
      ]
     },
     "execution_count": 24,
     "metadata": {},
     "output_type": "execute_result"
    }
   ],
   "source": [
    "# DAG DISCOVERY\n",
    "from discovery import run_pc, draw\n",
    "\n",
    "nodes, edges = run_pc(DATA)#, knowledge=\"knowledge.txt\")\n",
    "\n",
    "draw(nodes, edges)"
   ]
  },
  {
   "cell_type": "code",
   "execution_count": 22,
   "metadata": {},
   "outputs": [
    {
     "name": "stdout",
     "output_type": "stream",
     "text": [
      "['V1', 'V2', 'V6', 'V3', 'V4', 'V5', 'Y', 'V7', 'V8', 'V9']\n",
      "True\n"
     ]
    },
    {
     "data": {
      "image/svg+xml": "<?xml version=\"1.0\" encoding=\"UTF-8\" standalone=\"no\"?>\n<!DOCTYPE svg PUBLIC \"-//W3C//DTD SVG 1.1//EN\"\n \"http://www.w3.org/Graphics/SVG/1.1/DTD/svg11.dtd\">\n<!-- Generated by graphviz version 10.0.1 (20240210.2158)\n -->\n<!-- Pages: 1 -->\n<svg width=\"260pt\" height=\"297pt\"\n viewBox=\"0.00 0.00 260.00 297.00\" xmlns=\"http://www.w3.org/2000/svg\" xmlns:xlink=\"http://www.w3.org/1999/xlink\">\n<g id=\"graph0\" class=\"graph\" transform=\"scale(1 1) rotate(0) translate(4 293)\">\n<polygon fill=\"white\" stroke=\"none\" points=\"-4,4 -4,-293 256,-293 256,4 -4,4\"/>\n<!-- V1 -->\n<g id=\"node1\" class=\"node\">\n<title>V1</title>\n<text text-anchor=\"middle\" x=\"18\" y=\"-265.95\" font-family=\"Times,serif\" font-size=\"14.00\">V1</text>\n</g>\n<!-- V3 -->\n<g id=\"node4\" class=\"node\">\n<title>V3</title>\n<text text-anchor=\"middle\" x=\"90\" y=\"-242.95\" font-family=\"Times,serif\" font-size=\"14.00\">V3</text>\n</g>\n<!-- V1&#45;&gt;V3 -->\n<g id=\"edge1\" class=\"edge\">\n<title>V1&#45;&gt;V3</title>\n<path fill=\"none\" stroke=\"orange\" d=\"M35.95,-265.43C46.95,-261.82 61.24,-257.12 72.21,-253.52\"/>\n</g>\n<!-- V4 -->\n<g id=\"node5\" class=\"node\">\n<title>V4</title>\n<text text-anchor=\"middle\" x=\"234\" y=\"-227.95\" font-family=\"Times,serif\" font-size=\"14.00\">V4</text>\n</g>\n<!-- V1&#45;&gt;V4 -->\n<g id=\"edge2\" class=\"edge\">\n<title>V1&#45;&gt;V4</title>\n<path fill=\"none\" stroke=\"green\" d=\"M35.69,-272.58C46.12,-273.49 59.83,-274.54 72,-275 87.99,-275.6 92.16,-277.26 108,-275 141,-270.29 148.47,-264.82 180,-254 188.5,-251.09 197.63,-247.6 205.88,-244.31\"/>\n<polygon fill=\"green\" stroke=\"green\" points=\"207.09,-247.6 215.04,-240.59 204.46,-241.11 207.09,-247.6\"/>\n</g>\n<!-- V2 -->\n<g id=\"node2\" class=\"node\">\n<title>V2</title>\n<text text-anchor=\"middle\" x=\"90\" y=\"-158.95\" font-family=\"Times,serif\" font-size=\"14.00\">V2</text>\n</g>\n<!-- V2&#45;&gt;V4 -->\n<g id=\"edge3\" class=\"edge\">\n<title>V2&#45;&gt;V4</title>\n<path fill=\"none\" stroke=\"green\" d=\"M107.99,-164.9C126.62,-166.49 156.92,-170.89 180,-183 191.37,-188.97 202.06,-198.07 210.82,-206.88\"/>\n<polygon fill=\"green\" stroke=\"green\" points=\"208.15,-209.14 217.55,-214.02 213.24,-204.34 208.15,-209.14\"/>\n</g>\n<!-- V5 -->\n<g id=\"node6\" class=\"node\">\n<title>V5</title>\n<text text-anchor=\"middle\" x=\"162\" y=\"-204.95\" font-family=\"Times,serif\" font-size=\"14.00\">V5</text>\n</g>\n<!-- V2&#45;&gt;V5 -->\n<g id=\"edge4\" class=\"edge\">\n<title>V2&#45;&gt;V5</title>\n<path fill=\"none\" stroke=\"orange\" d=\"M107.95,-175.14C118.95,-182.37 133.24,-191.76 144.21,-198.97\"/>\n</g>\n<!-- V8 -->\n<g id=\"node9\" class=\"node\">\n<title>V8</title>\n<text text-anchor=\"middle\" x=\"162\" y=\"-112.95\" font-family=\"Times,serif\" font-size=\"14.00\">V8</text>\n</g>\n<!-- V2&#45;&gt;V8 -->\n<g id=\"edge5\" class=\"edge\">\n<title>V2&#45;&gt;V8</title>\n<path fill=\"none\" stroke=\"green\" d=\"M107.95,-152.86C115.94,-147.61 125.67,-141.22 134.6,-135.35\"/>\n<polygon fill=\"green\" stroke=\"green\" points=\"136.51,-138.28 142.95,-129.86 132.67,-132.43 136.51,-138.28\"/>\n</g>\n<!-- V6 -->\n<g id=\"node3\" class=\"node\">\n<title>V6</title>\n<text text-anchor=\"middle\" x=\"234\" y=\"-12.95\" font-family=\"Times,serif\" font-size=\"14.00\">V6</text>\n</g>\n<!-- V3&#45;&gt;V4 -->\n<g id=\"edge6\" class=\"edge\">\n<title>V3&#45;&gt;V4</title>\n<path fill=\"none\" stroke=\"green\" d=\"M107.85,-246.22C131.76,-243.69 175.85,-239.04 204.8,-235.98\"/>\n<polygon fill=\"green\" stroke=\"green\" points=\"205.09,-239.47 214.67,-234.94 204.36,-232.51 205.09,-239.47\"/>\n</g>\n<!-- V3&#45;&gt;V5 -->\n<g id=\"edge7\" class=\"edge\">\n<title>V3&#45;&gt;V5</title>\n<path fill=\"none\" stroke=\"orange\" d=\"M107.95,-238.8C118.95,-232.83 133.24,-225.07 144.21,-219.11\"/>\n</g>\n<!-- V5&#45;&gt;V4 -->\n<g id=\"edge8\" class=\"edge\">\n<title>V5&#45;&gt;V4</title>\n<path fill=\"none\" stroke=\"green\" d=\"M179.95,-215.57C187.6,-218.08 196.84,-221.12 205.44,-223.95\"/>\n<polygon fill=\"green\" stroke=\"green\" points=\"204.18,-227.21 214.77,-227.01 206.37,-220.56 204.18,-227.21\"/>\n</g>\n<!-- Y -->\n<g id=\"node7\" class=\"node\">\n<title>Y</title>\n<text text-anchor=\"middle\" x=\"90\" y=\"-58.95\" font-family=\"Times,serif\" font-size=\"14.00\">Y</text>\n</g>\n<!-- Y&#45;&gt;V6 -->\n<g id=\"edge11\" class=\"edge\">\n<title>Y&#45;&gt;V6</title>\n<path fill=\"none\" stroke=\"red\" d=\"M117.8,-48.64C126.01,-44.4 135.2,-40.12 144,-37 163.84,-29.96 187.14,-25.11 204.92,-22.06\"/>\n<polygon fill=\"red\" stroke=\"red\" points=\"116.17,-45.54 109.02,-53.36 119.48,-51.71 116.17,-45.54\"/>\n<polygon fill=\"red\" stroke=\"red\" points=\"205.43,-25.53 214.75,-20.48 204.32,-18.62 205.43,-25.53\"/>\n</g>\n<!-- V7 -->\n<g id=\"node8\" class=\"node\">\n<title>V7</title>\n<text text-anchor=\"middle\" x=\"162\" y=\"-58.95\" font-family=\"Times,serif\" font-size=\"14.00\">V7</text>\n</g>\n<!-- Y&#45;&gt;V7 -->\n<g id=\"edge12\" class=\"edge\">\n<title>Y&#45;&gt;V7</title>\n<path fill=\"none\" stroke=\"blue\" d=\"M107.95,-64C115.43,-64 124.42,-64 132.86,-64\"/>\n<polygon fill=\"blue\" stroke=\"blue\" points=\"132.7,-67.5 142.7,-64 132.7,-60.5 132.7,-67.5\"/>\n</g>\n<!-- Y&#45;&gt;V8 -->\n<g id=\"edge13\" class=\"edge\">\n<title>Y&#45;&gt;V8</title>\n<path fill=\"none\" stroke=\"red\" d=\"M117,-84.06C122.97,-88.66 129.31,-93.56 135.27,-98.15\"/>\n<polygon fill=\"red\" stroke=\"red\" points=\"119.2,-81.33 109.14,-78 114.92,-86.88 119.2,-81.33\"/>\n<polygon fill=\"red\" stroke=\"red\" points=\"132.96,-100.79 143.01,-104.12 137.23,-95.24 132.96,-100.79\"/>\n</g>\n<!-- V7&#45;&gt;V6 -->\n<g id=\"edge9\" class=\"edge\">\n<title>V7&#45;&gt;V6</title>\n<path fill=\"none\" stroke=\"red\" d=\"M189.29,-46.73C195.06,-42.93 201.18,-38.91 206.95,-35.12\"/>\n<polygon fill=\"red\" stroke=\"red\" points=\"187.64,-43.62 181.21,-52.03 191.49,-49.47 187.64,-43.62\"/>\n<polygon fill=\"red\" stroke=\"red\" points=\"208.51,-38.28 214.95,-29.86 204.67,-32.43 208.51,-38.28\"/>\n</g>\n<!-- V9 -->\n<g id=\"node10\" class=\"node\">\n<title>V9</title>\n<text text-anchor=\"middle\" x=\"234\" y=\"-66.95\" font-family=\"Times,serif\" font-size=\"14.00\">V9</text>\n</g>\n<!-- V7&#45;&gt;V9 -->\n<g id=\"edge10\" class=\"edge\">\n<title>V7&#45;&gt;V9</title>\n<path fill=\"none\" stroke=\"blue\" d=\"M179.95,-65.94C187.43,-66.79 196.42,-67.82 204.86,-68.78\"/>\n<polygon fill=\"blue\" stroke=\"blue\" points=\"204.37,-72.25 214.71,-69.91 205.17,-65.3 204.37,-72.25\"/>\n</g>\n</g>\n</svg>\n",
      "text/plain": [
       "<graphviz.graphs.Digraph at 0x12eb58fd0>"
      ]
     },
     "execution_count": 22,
     "metadata": {},
     "output_type": "execute_result"
    }
   ],
   "source": [
    "# ADMG DISCOVERY\n",
    "from discovery import run_fci, draw\n",
    "\n",
    "nodes, edges = run_fci(DATA)#, knowledge=\"knowledge.txt\")\n",
    "\n",
    "draw(nodes, edges)\n",
    "\n"
   ]
  },
  {
   "cell_type": "code",
   "execution_count": 27,
   "metadata": {},
   "outputs": [
    {
     "name": "stdout",
     "output_type": "stream",
     "text": [
      "Which orientation is best:\n",
      "1. V1 --> V3\n",
      "2. V3 --> V1 \n",
      "Which orientation is best:\n",
      "1. V2 --> V5\n",
      "2. V5 --> V2 \n",
      "Which orientation is best:\n",
      "1. V3 --> V5\n",
      "2. V5 --> V3 \n",
      "Which orientation is best:\n",
      "1. V6 --> V7\n",
      "2. V7 --> V6 \n",
      "Which orientation is best:\n",
      "1. V6 --> Y\n",
      "2. Y --> V6 \n",
      "Which orientation is best:\n",
      "1. V7 --> V9\n",
      "2. V9 --> V7 \n",
      "Which orientation is best:\n",
      "1. Y --> V7\n",
      "2. V7 --> Y \n"
     ]
    }
   ],
   "source": [
    "### FIX GRAPHS\n",
    "\n",
    "from fix import fix_graph\n",
    "\n",
    "graph_data = fix_graph(nodes, edges)\n",
    "\n",
    "if len(graph_data) == 3:\n",
    "    nodes, di_edges, bi_edges = graph_data\n",
    "else: \n",
    "    nodes, edges = graph_data"
   ]
  },
  {
   "attachments": {},
   "cell_type": "markdown",
   "metadata": {},
   "source": [
    "### Option 3: Manual Entry"
   ]
  },
  {
   "cell_type": "code",
   "execution_count": null,
   "metadata": {},
   "outputs": [],
   "source": [
    "### MANUAL ENTRY\n",
    "# Enter nodes and edges here\n",
    "# Note: do not run if using option 1 or 2 because this will overwrite process\n",
    "\n",
    "nodes = 'TODO'\n",
    "\n",
    "# DAG\n",
    "edges = 'TODO'\n",
    "\n",
    "# ADMG\n",
    "di_edges = 'TODO'\n",
    "bi_edges = 'TODO'\n"
   ]
  },
  {
   "cell_type": "code",
   "execution_count": null,
   "metadata": {},
   "outputs": [],
   "source": []
  }
 ],
 "metadata": {
  "kernelspec": {
   "display_name": "cff-env",
   "language": "python",
   "name": "python3"
  },
  "language_info": {
   "codemirror_mode": {
    "name": "ipython",
    "version": 3
   },
   "file_extension": ".py",
   "mimetype": "text/x-python",
   "name": "python",
   "nbconvert_exporter": "python",
   "pygments_lexer": "ipython3",
   "version": "3.11.7"
  },
  "orig_nbformat": 4,
  "vscode": {
   "interpreter": {
    "hash": "8bf6e8a02171e3dad54acf31bb56e7b7a654943047f9d956a29a6b2b63f66a47"
   }
  }
 },
 "nbformat": 4,
 "nbformat_minor": 2
}
